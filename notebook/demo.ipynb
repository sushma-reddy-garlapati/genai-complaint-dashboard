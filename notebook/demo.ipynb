{
 "cells": [
  {
   "cell_type": "code",
   "execution_count": 1,
   "id": "ecf76d7b-b359-46da-8b22-4196573da145",
   "metadata": {},
   "outputs": [
    {
     "name": "stdout",
     "output_type": "stream",
     "text": [
      "✅ Loaded rows: 1282355\n",
      "🔍 Sample complaint:\n",
      " nan\n"
     ]
    }
   ],
   "source": [
    "import pandas as pd\n",
    "\n",
    "df = pd.read_csv(\"../data/rows.csv\", low_memory=False)\n",
    "print(\"✅ Loaded rows:\", len(df))\n",
    "print(\"🔍 Sample complaint:\\n\", df[\"Consumer complaint narrative\"].iloc[0])\n"
   ]
  },
  {
   "cell_type": "code",
   "execution_count": 2,
   "id": "345d7362-f3ea-4f58-814f-65e45bbeee0e",
   "metadata": {},
   "outputs": [
    {
     "name": "stdout",
     "output_type": "stream",
     "text": [
      "✅ Rows with enough content: 371561\n"
     ]
    }
   ],
   "source": [
    "df = df[df[\"Consumer complaint narrative\"].astype(str).str.len() > 100].reset_index(drop=True)\n",
    "print(\"✅ Rows with enough content:\", len(df))\n"
   ]
  },
  {
   "cell_type": "code",
   "execution_count": 3,
   "id": "9cd1355b-a0e1-4fd5-a100-bb1698bf8f2a",
   "metadata": {},
   "outputs": [],
   "source": [
    "import re\n",
    "\n",
    "def clean_complaint(text):\n",
    "    if not isinstance(text, str):\n",
    "        return \"\"\n",
    "    try:\n",
    "        # Remove placeholders and normalize spacing\n",
    "        text = re.sub(r\"\\bXXXX\\b\", \"\", text)\n",
    "        text = re.sub(r\"\\bXX/XX/?\\d{0,4}\\b\", \"\", text)\n",
    "        text = re.sub(r\"\\{\\$[\\d,.]+\\}\", \"\", text)\n",
    "        text = re.sub(r\"\\s+\", \" \", text).strip()\n",
    "        return text\n",
    "    except Exception as e:\n",
    "        print(f\"Error cleaning text: {e}\")\n",
    "        return \"\"\n",
    "\n",
    "df[\"cleaned_narrative\"] = df[\"Consumer complaint narrative\"].apply(clean_complaint)\n"
   ]
  },
  {
   "cell_type": "code",
   "execution_count": 4,
   "id": "f396fbf6-60f1-47d6-98dd-393afe761163",
   "metadata": {},
   "outputs": [
    {
     "name": "stdout",
     "output_type": "stream",
     "text": [
      "✅ Final cleaned complaints: 371561\n"
     ]
    }
   ],
   "source": [
    "df = df[df[\"cleaned_narrative\"].str.strip() != \"\"].reset_index(drop=True)\n",
    "print(\"✅ Final cleaned complaints:\", len(df))\n"
   ]
  },
  {
   "cell_type": "code",
   "execution_count": 5,
   "id": "da5e5e25-b53f-44ce-94ba-7391ef5cd590",
   "metadata": {},
   "outputs": [
    {
     "name": "stdout",
     "output_type": "stream",
     "text": [
      "\n",
      "Complaint 1:\n",
      "The Summer of I was denied a mortgage loan due to a charge off from credit card. I both mailed an account validation letter and disputed this debt with the credit bureaus and the credit card company several times. Only the credit bureaus responded that this debt was verified but showed no proof as I...\n",
      "\n",
      "\n",
      "Complaint 2:\n",
      "There is an account reporting on my credit report from which is saying the balance is coming from from . I never signed a joint lease with anyone, I have asked several times for a copy of this lease I supposed I signed. The credit bureau is allowing this allow to report on my credit report when it d...\n",
      "\n",
      "\n",
      "Complaint 3:\n",
      "The reason for my writing is to inform you that this company is being unreasonable and not adhering to the law. I am a victim of identity theft. My personal information was compromised and as a result fraudulent charges were included on my accounts without my consent or authorization. I disputed thi...\n",
      "\n"
     ]
    }
   ],
   "source": [
    "for i in range(3):\n",
    "    print(f\"\\nComplaint {i+1}:\\n{df['cleaned_narrative'].iloc[i][:300]}...\\n\")\n"
   ]
  },
  {
   "cell_type": "code",
   "execution_count": 6,
   "id": "d9a40bf9-f113-470d-ae31-6c4ec4e3ae33",
   "metadata": {},
   "outputs": [
    {
     "name": "stderr",
     "output_type": "stream",
     "text": [
      "/var/folders/79/wmwb8w0d4k56gptx211pdj400000gn/T/ipykernel_53334/2685660519.py:3: LangChainDeprecationWarning: The class `HuggingFaceEmbeddings` was deprecated in LangChain 0.2.2 and will be removed in 1.0. An updated version of the class exists in the :class:`~langchain-huggingface package and should be used instead. To use it run `pip install -U :class:`~langchain-huggingface` and import as `from :class:`~langchain_huggingface import HuggingFaceEmbeddings``.\n",
      "  emb = HuggingFaceEmbeddings(model_name=\"sentence-transformers/all-MiniLM-L6-v2\")\n",
      "/opt/anaconda3/envs/genai-demo/lib/python3.10/site-packages/sentence_transformers/cross_encoder/CrossEncoder.py:11: TqdmExperimentalWarning: Using `tqdm.autonotebook.tqdm` in notebook mode. Use `tqdm.tqdm` instead to force console mode (e.g. in jupyter console)\n",
      "  from tqdm.autonotebook import tqdm, trange\n"
     ]
    },
    {
     "name": "stdout",
     "output_type": "stream",
     "text": [
      "✅ Embedding model loaded.\n"
     ]
    }
   ],
   "source": [
    "from langchain_community.embeddings import HuggingFaceEmbeddings\n",
    "\n",
    "emb = HuggingFaceEmbeddings(model_name=\"sentence-transformers/all-MiniLM-L6-v2\")\n",
    "print(\"✅ Embedding model loaded.\")\n"
   ]
  },
  {
   "cell_type": "code",
   "execution_count": 8,
   "id": "0c307ac7-180c-4dff-8331-4067efccae0f",
   "metadata": {},
   "outputs": [
    {
     "name": "stdout",
     "output_type": "stream",
     "text": [
      "✅ Documents prepared: 1000\n"
     ]
    }
   ],
   "source": [
    "from langchain.schema import Document\n",
    "\n",
    "docs_subset = [\n",
    "    Document(\n",
    "        page_content=str(row[\"cleaned_narrative\"]),\n",
    "        metadata={\"product\": str(row.get(\"Product\", \"\"))}\n",
    "    )\n",
    "    for _, row in df.head(1000).iterrows()\n",
    "]\n",
    "\n",
    "print(\"✅ Documents prepared:\", len(docs_subset))\n",
    "\n"
   ]
  },
  {
   "cell_type": "code",
   "execution_count": 9,
   "id": "2b65483f-3a23-4c2d-9202-0cf09dbd7720",
   "metadata": {},
   "outputs": [
    {
     "name": "stdout",
     "output_type": "stream",
     "text": [
      "✅ FAISS index built.\n"
     ]
    }
   ],
   "source": [
    "vectorstore = FAISS.from_documents(docs_subset, emb)\n",
    "print(\"✅ FAISS index built.\")\n"
   ]
  },
  {
   "cell_type": "code",
   "execution_count": 10,
   "id": "ba2fa016-3de8-4fbd-bbd0-962fe6f72973",
   "metadata": {},
   "outputs": [
    {
     "name": "stdout",
     "output_type": "stream",
     "text": [
      "\n",
      "Result 1:\n",
      "I started a Dispute in about how was reporting payment and balance info. The reporting was corrected. The Dispute was to be removed from my report by . It is still listed as an open Dispute and blocks me from any other Disputes. Only one Dispute at a time. The company at fault is Credit Karma. They ...\n",
      "\n",
      "\n",
      "Result 2:\n",
      "I saw something on the news about Congresswoman about how she is trying to help change the way that the credit bureaus report inaccurate information. She stated \" In this broken system, credit reports are routinely filled with errors that are difficult for consumers to correct. Negative information ...\n",
      "\n",
      "\n",
      "Result 3:\n",
      "; Experian and are reporting me as 30 to 60 days late on the account number and . This account reflects a balance and past due. This inaccurate reporting is harming my credit score. I have disputed this directly with the three bureaus but the error has not been corrected. It is impossible to be late...\n",
      "\n"
     ]
    }
   ],
   "source": [
    "question = \"What is the complaint about credit report errors?\"\n",
    "hits = vectorstore.similarity_search(question, k=3)\n",
    "\n",
    "for i, doc in enumerate(hits, 1):\n",
    "    print(f\"\\nResult {i}:\\n{doc.page_content[:300]}...\\n\")\n"
   ]
  },
  {
   "cell_type": "code",
   "execution_count": 11,
   "id": "04108b6f-c5b1-48eb-bc2c-87607658f13d",
   "metadata": {},
   "outputs": [
    {
     "data": {
      "application/vnd.jupyter.widget-view+json": {
       "model_id": "673b46dc9cf841019b380fc3cfc378cd",
       "version_major": 2,
       "version_minor": 0
      },
      "text/plain": [
       "config.json: 0.00B [00:00, ?B/s]"
      ]
     },
     "metadata": {},
     "output_type": "display_data"
    },
    {
     "data": {
      "application/vnd.jupyter.widget-view+json": {
       "model_id": "5d3834577e704cd793ad742990427e41",
       "version_major": 2,
       "version_minor": 0
      },
      "text/plain": [
       "pytorch_model.bin:   0%|          | 0.00/1.22G [00:00<?, ?B/s]"
      ]
     },
     "metadata": {},
     "output_type": "display_data"
    },
    {
     "data": {
      "application/vnd.jupyter.widget-view+json": {
       "model_id": "141c9d51b34342f0a902c706226f7641",
       "version_major": 2,
       "version_minor": 0
      },
      "text/plain": [
       "tokenizer_config.json:   0%|          | 0.00/26.0 [00:00<?, ?B/s]"
      ]
     },
     "metadata": {},
     "output_type": "display_data"
    },
    {
     "data": {
      "application/vnd.jupyter.widget-view+json": {
       "model_id": "d80d210c618648ceaf7090740885a6a2",
       "version_major": 2,
       "version_minor": 0
      },
      "text/plain": [
       "vocab.json: 0.00B [00:00, ?B/s]"
      ]
     },
     "metadata": {},
     "output_type": "display_data"
    },
    {
     "data": {
      "application/vnd.jupyter.widget-view+json": {
       "model_id": "e87fa884f4944ee3b47222e3f3c9efdc",
       "version_major": 2,
       "version_minor": 0
      },
      "text/plain": [
       "merges.txt: 0.00B [00:00, ?B/s]"
      ]
     },
     "metadata": {},
     "output_type": "display_data"
    },
    {
     "name": "stderr",
     "output_type": "stream",
     "text": [
      "Device set to use mps:0\n"
     ]
    },
    {
     "data": {
      "application/vnd.jupyter.widget-view+json": {
       "model_id": "259c8bc663fa4cd69a5439fe8ee59d03",
       "version_major": 2,
       "version_minor": 0
      },
      "text/plain": [
       "model.safetensors:   0%|          | 0.00/1.22G [00:00<?, ?B/s]"
      ]
     },
     "metadata": {},
     "output_type": "display_data"
    },
    {
     "name": "stdout",
     "output_type": "stream",
     "text": [
      "📝 Summary:\n",
      "  The company at fault is Credit Karma. They refuse to acknowledge there is anything wrong . I started a Dispute in about how was reporting payment and balance info. The reporting was corrected. The Dispute was to be removed from my report by . It is still listed as an open Dispute and blocks me from any other disputes .\n"
     ]
    }
   ],
   "source": [
    "from transformers import pipeline\n",
    "\n",
    "# Load summarization pipeline\n",
    "summarizer = pipeline(\"summarization\", model=\"sshleifer/distilbart-cnn-12-6\")\n",
    "\n",
    "# Combine retrieved complaints into one text block\n",
    "combined_text = \" \".join([doc.page_content for doc in hits])\n",
    "\n",
    "# Summarize\n",
    "summary = summarizer(combined_text, max_length=150, min_length=60, do_sample=False)[0][\"summary_text\"]\n",
    "print(\"📝 Summary:\\n\", summary)\n"
   ]
  },
  {
   "cell_type": "code",
   "execution_count": 13,
   "id": "20dd4aab-ec80-48ca-926b-7f7cd0481bb1",
   "metadata": {},
   "outputs": [],
   "source": [
    "def summarize_text(text, summarizer, min_ratio=0.4, max_ratio=0.8):\n",
    "    input_len = len(text.split())\n",
    "    max_len = max(int(input_len * max_ratio), 30)\n",
    "    min_len = max(int(input_len * min_ratio), 20)\n",
    "    \n",
    "    summary = summarizer(text, max_length=max_len, min_length=min_len, do_sample=False)[0][\"summary_text\"]\n",
    "    return summary\n"
   ]
  },
  {
   "cell_type": "code",
   "execution_count": 14,
   "id": "1b94fc34-e751-468e-b536-30df5ccf3d09",
   "metadata": {},
   "outputs": [
    {
     "name": "stdout",
     "output_type": "stream",
     "text": [
      "📝 Summary:\n",
      "  Credit Karma is still listed as an open Dispute and blocks me from any other Disputes . The company at fault is Credit Karma . They refuse to acknowledge there is anything wrong .\n"
     ]
    }
   ],
   "source": [
    "sample_text = hits[0].page_content\n",
    "print(\"📝 Summary:\\n\", summarize_text(sample_text, summarizer))\n"
   ]
  },
  {
   "cell_type": "code",
   "execution_count": 15,
   "id": "93dcc0e9-3d59-4b16-808b-35ee2e222d6e",
   "metadata": {},
   "outputs": [
    {
     "name": "stdout",
     "output_type": "stream",
     "text": [
      "\n",
      "🔹 Summary 1:\n",
      " Credit Karma is still listed as an open Dispute and blocks me from any other Disputes . The company at fault is Credit Karma . They refuse to acknowledge there is anything wrong .\n",
      "\n",
      "\n",
      "🔹 Summary 2:\n",
      " I noticed that I was reported 30 days late in of this year . I have never made a late payment on this account to my knowledge . This must be some kind of error because since 2013 when I opened this account, I have always maintained a low balance and paid on time . This is going to ruin my perfect credit history when in fact, I was never late . I really need help with clearing this up because I am sure there is some kind kind of discrepancy. This is .\n",
      "\n",
      "\n",
      "🔹 Summary 3:\n",
      " Experian and Experian are reporting me as 30 to 60 days late on the account number and . This account reflects a balance and past due . This inaccurate reporting is harming my credit score . I have disputed this directly with the three bureaus but the error\n",
      "\n"
     ]
    }
   ],
   "source": [
    "summaries = []\n",
    "\n",
    "for doc in hits:\n",
    "    text = doc.page_content\n",
    "    summary = summarize_text(text, summarizer)\n",
    "    summaries.append(summary)\n",
    "\n",
    "for i, s in enumerate(summaries, 1):\n",
    "    print(f\"\\n🔹 Summary {i}:\\n{s}\\n\")\n"
   ]
  },
  {
   "cell_type": "code",
   "execution_count": 16,
   "id": "845cd7cb-e9de-452e-9459-8613c5346a86",
   "metadata": {},
   "outputs": [
    {
     "name": "stdout",
     "output_type": "stream",
     "text": [
      "🧾 Refined Summary:\n",
      "  Credit Karma is still listed as an open Dispute and blocks me from any other Disputes . The company at fault is Credit Karma . They refuse to acknowledge there is anything wrong . Experian and Experian are reporting me as 30 to 60 days late on the account number and . This account reflects a balance and past due . This inaccurate reporting is harming my credit score .\n"
     ]
    }
   ],
   "source": [
    "combined_input = \" \".join(summaries)\n",
    "refined_summary = summarize_text(combined_input, summarizer)\n",
    "print(\"🧾 Refined Summary:\\n\", refined_summary)\n"
   ]
  },
  {
   "cell_type": "code",
   "execution_count": 17,
   "id": "3dcd3645-157a-4b79-bb54-d7aaef3a8ca0",
   "metadata": {},
   "outputs": [
    {
     "name": "stdout",
     "output_type": "stream",
     "text": [
      "✅ FAISS index saved to faiss_index.pkl\n"
     ]
    }
   ],
   "source": [
    "import pickle\n",
    "\n",
    "with open(\"faiss_index.pkl\", \"wb\") as f:\n",
    "    pickle.dump(vectorstore, f)\n",
    "\n",
    "print(\"✅ FAISS index saved to faiss_index.pkl\")\n"
   ]
  },
  {
   "cell_type": "code",
   "execution_count": 18,
   "id": "330b4ec7-8e61-48a4-a8d2-15b172d6e766",
   "metadata": {},
   "outputs": [
    {
     "name": "stdout",
     "output_type": "stream",
     "text": [
      "✅ Exists: True\n"
     ]
    }
   ],
   "source": [
    "import os\n",
    "print(\"✅ Exists:\", os.path.exists(\"faiss_index.pkl\"))\n"
   ]
  },
  {
   "cell_type": "code",
   "execution_count": 20,
   "id": "70f2a919-a992-4747-b050-63c0eb3d45ca",
   "metadata": {},
   "outputs": [
    {
     "data": {
      "text/plain": [
       "[3189109,\n",
       " 3186792,\n",
       " 3187373,\n",
       " 3184692,\n",
       " 3184195,\n",
       " 3183544,\n",
       " 3183547,\n",
       " 3183589,\n",
       " 3183581,\n",
       " 3182609]"
      ]
     },
     "execution_count": 20,
     "metadata": {},
     "output_type": "execute_result"
    }
   ],
   "source": [
    "df[\"Complaint ID\"].head(10).tolist()\n",
    "\n"
   ]
  },
  {
   "cell_type": "code",
   "execution_count": 21,
   "id": "7686a778-7438-466a-adb2-9b8bc05ce628",
   "metadata": {},
   "outputs": [],
   "source": [
    "def get_complaint_by_id(df, complaint_id):\n",
    "    match = df[df[\"Complaint ID\"] == complaint_id]\n",
    "    if not match.empty:\n",
    "        return match[[\n",
    "            \"Date received\", \"Product\", \"Issue\", \"Company\",\n",
    "            \"State\", \"Submitted via\", \"Company response to consumer\",\n",
    "            \"Consumer complaint narrative\"\n",
    "        ]]\n",
    "    else:\n",
    "        return f\"❌ No complaint found with ID {complaint_id}\"\n"
   ]
  },
  {
   "cell_type": "code",
   "execution_count": 22,
   "id": "1654306f-3356-4e88-9705-b05c033b280f",
   "metadata": {},
   "outputs": [
    {
     "data": {
      "text/html": [
       "<div>\n",
       "<style scoped>\n",
       "    .dataframe tbody tr th:only-of-type {\n",
       "        vertical-align: middle;\n",
       "    }\n",
       "\n",
       "    .dataframe tbody tr th {\n",
       "        vertical-align: top;\n",
       "    }\n",
       "\n",
       "    .dataframe thead th {\n",
       "        text-align: right;\n",
       "    }\n",
       "</style>\n",
       "<table border=\"1\" class=\"dataframe\">\n",
       "  <thead>\n",
       "    <tr style=\"text-align: right;\">\n",
       "      <th></th>\n",
       "      <th>Date received</th>\n",
       "      <th>Product</th>\n",
       "      <th>Issue</th>\n",
       "      <th>Company</th>\n",
       "      <th>State</th>\n",
       "      <th>Submitted via</th>\n",
       "      <th>Company response to consumer</th>\n",
       "      <th>Consumer complaint narrative</th>\n",
       "    </tr>\n",
       "  </thead>\n",
       "  <tbody>\n",
       "    <tr>\n",
       "      <th>0</th>\n",
       "      <td>03/23/2019</td>\n",
       "      <td>Credit reporting, credit repair services, or o...</td>\n",
       "      <td>Incorrect information on your report</td>\n",
       "      <td>TRANSUNION INTERMEDIATE HOLDINGS, INC.</td>\n",
       "      <td>IL</td>\n",
       "      <td>Web</td>\n",
       "      <td>Closed with explanation</td>\n",
       "      <td>The Summer of XX/XX/2018 I was denied a mortga...</td>\n",
       "    </tr>\n",
       "  </tbody>\n",
       "</table>\n",
       "</div>"
      ],
      "text/plain": [
       "  Date received                                            Product  \\\n",
       "0    03/23/2019  Credit reporting, credit repair services, or o...   \n",
       "\n",
       "                                  Issue  \\\n",
       "0  Incorrect information on your report   \n",
       "\n",
       "                                  Company State Submitted via  \\\n",
       "0  TRANSUNION INTERMEDIATE HOLDINGS, INC.    IL           Web   \n",
       "\n",
       "  Company response to consumer  \\\n",
       "0      Closed with explanation   \n",
       "\n",
       "                        Consumer complaint narrative  \n",
       "0  The Summer of XX/XX/2018 I was denied a mortga...  "
      ]
     },
     "execution_count": 22,
     "metadata": {},
     "output_type": "execute_result"
    }
   ],
   "source": [
    "get_complaint_by_id(df, 3189109)\n"
   ]
  },
  {
   "cell_type": "code",
   "execution_count": 23,
   "id": "e05314a2-ec1e-4465-b87d-9fbf466322b2",
   "metadata": {},
   "outputs": [
    {
     "name": "stdout",
     "output_type": "stream",
     "text": [
      "✅ Saved cleaned dataset to cleaned_complaints.csv\n"
     ]
    }
   ],
   "source": [
    "df.to_csv(\"cleaned_complaints.csv\", index=False)\n",
    "print(\"✅ Saved cleaned dataset to cleaned_complaints.csv\")\n"
   ]
  },
  {
   "cell_type": "code",
   "execution_count": null,
   "id": "58b78975-e070-4350-a54d-e3626351ce0e",
   "metadata": {},
   "outputs": [],
   "source": []
  }
 ],
 "metadata": {
  "kernelspec": {
   "display_name": "Python 3 (ipykernel)",
   "language": "python",
   "name": "python3"
  },
  "language_info": {
   "codemirror_mode": {
    "name": "ipython",
    "version": 3
   },
   "file_extension": ".py",
   "mimetype": "text/x-python",
   "name": "python",
   "nbconvert_exporter": "python",
   "pygments_lexer": "ipython3",
   "version": "3.10.18"
  }
 },
 "nbformat": 4,
 "nbformat_minor": 5
}
